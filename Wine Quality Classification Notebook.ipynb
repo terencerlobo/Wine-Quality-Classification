{
 "cells": [
  {
   "cell_type": "code",
   "execution_count": 1,
   "id": "e4a6c5e3",
   "metadata": {
    "_cell_guid": "b1076dfc-b9ad-4769-8c92-a6c4dae69d19",
    "_uuid": "8f2839f25d086af736a60e9eeb907d3b93b6e0e5",
    "execution": {
     "iopub.execute_input": "2022-03-03T09:33:52.549811Z",
     "iopub.status.busy": "2022-03-03T09:33:52.547044Z",
     "iopub.status.idle": "2022-03-03T09:33:52.559911Z",
     "shell.execute_reply": "2022-03-03T09:33:52.559144Z",
     "shell.execute_reply.started": "2022-03-03T09:14:05.92244Z"
    },
    "papermill": {
     "duration": 0.051216,
     "end_time": "2022-03-03T09:33:52.560078",
     "exception": false,
     "start_time": "2022-03-03T09:33:52.508862",
     "status": "completed"
    },
    "tags": []
   },
   "outputs": [
    {
     "name": "stdout",
     "output_type": "stream",
     "text": [
      "/kaggle/input/wine-quality-dataset/WineQT.csv\n"
     ]
    }
   ],
   "source": [
    "# # This Python 3 environment comes with many helpful analytics libraries installed\n",
    "# # It is defined by the kaggle/python Docker image: https://github.com/kaggle/docker-python\n",
    "# # For example, here's several helpful packages to load\n",
    "\n",
    "# import numpy as np # linear algebra\n",
    "# import pandas as pd # data processing, CSV file I/O (e.g. pd.read_csv)\n",
    "\n",
    "# # Input data files are available in the read-only \"../input/\" directory\n",
    "# # For example, running this (by clicking run or pressing Shift+Enter) will list all files under the input directory\n",
    "\n",
    "# import os\n",
    "# for dirname, _, filenames in os.walk('/kaggle/input'):\n",
    "#     for filename in filenames:\n",
    "#         print(os.path.join(dirname, filename))\n",
    "\n",
    "# # You can write up to 20GB to the current directory (/kaggle/working/) that gets preserved as output when you create a version using \"Save & Run All\" \n",
    "# # You can also write temporary files to /kaggle/temp/, but they won't be saved outside of the current session"
   ]
  },
  {
   "cell_type": "code",
   "execution_count": null,
   "id": "87229eba",
   "metadata": {},
   "outputs": [],
   "source": [
    "# The above code is for loading the wine quality dataset from kaggle but can be run locally as well"
   ]
  },
  {
   "cell_type": "markdown",
   "id": "74f7c844",
   "metadata": {
    "papermill": {
     "duration": 0.028424,
     "end_time": "2022-03-03T09:33:52.618135",
     "exception": false,
     "start_time": "2022-03-03T09:33:52.589711",
     "status": "completed"
    },
    "tags": []
   },
   "source": [
    "# Importing Libraries"
   ]
  },
  {
   "cell_type": "code",
   "execution_count": 2,
   "id": "e6d43d15",
   "metadata": {
    "execution": {
     "iopub.execute_input": "2022-03-03T09:33:52.679669Z",
     "iopub.status.busy": "2022-03-03T09:33:52.678574Z",
     "iopub.status.idle": "2022-03-03T09:33:54.143079Z",
     "shell.execute_reply": "2022-03-03T09:33:54.142290Z",
     "shell.execute_reply.started": "2022-03-03T09:14:05.942513Z"
    },
    "papermill": {
     "duration": 1.496357,
     "end_time": "2022-03-03T09:33:54.143235",
     "exception": false,
     "start_time": "2022-03-03T09:33:52.646878",
     "status": "completed"
    },
    "tags": []
   },
   "outputs": [],
   "source": [
    "import pandas as pd\n",
    "import numpy as np\n",
    "import matplotlib.pyplot as plt\n",
    "import seaborn as sns\n",
    "\n",
    "from imblearn.over_sampling import SMOTE\n",
    "from sklearn.model_selection import train_test_split\n",
    "from sklearn.preprocessing import StandardScaler\n",
    "\n",
    "from sklearn.ensemble import RandomForestClassifier\n",
    "from sklearn.metrics import confusion_matrix, accuracy_score, f1_score, recall_score, precision_score\n",
    "from sklearn.model_selection import cross_val_score\n",
    "from sklearn.model_selection import GridSearchCV"
   ]
  },
  {
   "cell_type": "code",
   "execution_count": 3,
   "id": "e8204260",
   "metadata": {
    "execution": {
     "iopub.execute_input": "2022-03-03T09:33:54.205645Z",
     "iopub.status.busy": "2022-03-03T09:33:54.204644Z",
     "iopub.status.idle": "2022-03-03T09:33:54.252472Z",
     "shell.execute_reply": "2022-03-03T09:33:54.251974Z",
     "shell.execute_reply.started": "2022-03-03T09:14:06.606201Z"
    },
    "papermill": {
     "duration": 0.080218,
     "end_time": "2022-03-03T09:33:54.252632",
     "exception": false,
     "start_time": "2022-03-03T09:33:54.172414",
     "status": "completed"
    },
    "tags": []
   },
   "outputs": [
    {
     "data": {
      "text/html": [
       "<div>\n",
       "<style scoped>\n",
       "    .dataframe tbody tr th:only-of-type {\n",
       "        vertical-align: middle;\n",
       "    }\n",
       "\n",
       "    .dataframe tbody tr th {\n",
       "        vertical-align: top;\n",
       "    }\n",
       "\n",
       "    .dataframe thead th {\n",
       "        text-align: right;\n",
       "    }\n",
       "</style>\n",
       "<table border=\"1\" class=\"dataframe\">\n",
       "  <thead>\n",
       "    <tr style=\"text-align: right;\">\n",
       "      <th></th>\n",
       "      <th>fixed acidity</th>\n",
       "      <th>volatile acidity</th>\n",
       "      <th>citric acid</th>\n",
       "      <th>residual sugar</th>\n",
       "      <th>chlorides</th>\n",
       "      <th>free sulfur dioxide</th>\n",
       "      <th>total sulfur dioxide</th>\n",
       "      <th>density</th>\n",
       "      <th>pH</th>\n",
       "      <th>sulphates</th>\n",
       "      <th>alcohol</th>\n",
       "      <th>quality</th>\n",
       "      <th>Id</th>\n",
       "    </tr>\n",
       "  </thead>\n",
       "  <tbody>\n",
       "    <tr>\n",
       "      <th>0</th>\n",
       "      <td>7.4</td>\n",
       "      <td>0.70</td>\n",
       "      <td>0.00</td>\n",
       "      <td>1.9</td>\n",
       "      <td>0.076</td>\n",
       "      <td>11.0</td>\n",
       "      <td>34.0</td>\n",
       "      <td>0.9978</td>\n",
       "      <td>3.51</td>\n",
       "      <td>0.56</td>\n",
       "      <td>9.4</td>\n",
       "      <td>5</td>\n",
       "      <td>0</td>\n",
       "    </tr>\n",
       "    <tr>\n",
       "      <th>1</th>\n",
       "      <td>7.8</td>\n",
       "      <td>0.88</td>\n",
       "      <td>0.00</td>\n",
       "      <td>2.6</td>\n",
       "      <td>0.098</td>\n",
       "      <td>25.0</td>\n",
       "      <td>67.0</td>\n",
       "      <td>0.9968</td>\n",
       "      <td>3.20</td>\n",
       "      <td>0.68</td>\n",
       "      <td>9.8</td>\n",
       "      <td>5</td>\n",
       "      <td>1</td>\n",
       "    </tr>\n",
       "    <tr>\n",
       "      <th>2</th>\n",
       "      <td>7.8</td>\n",
       "      <td>0.76</td>\n",
       "      <td>0.04</td>\n",
       "      <td>2.3</td>\n",
       "      <td>0.092</td>\n",
       "      <td>15.0</td>\n",
       "      <td>54.0</td>\n",
       "      <td>0.9970</td>\n",
       "      <td>3.26</td>\n",
       "      <td>0.65</td>\n",
       "      <td>9.8</td>\n",
       "      <td>5</td>\n",
       "      <td>2</td>\n",
       "    </tr>\n",
       "    <tr>\n",
       "      <th>3</th>\n",
       "      <td>11.2</td>\n",
       "      <td>0.28</td>\n",
       "      <td>0.56</td>\n",
       "      <td>1.9</td>\n",
       "      <td>0.075</td>\n",
       "      <td>17.0</td>\n",
       "      <td>60.0</td>\n",
       "      <td>0.9980</td>\n",
       "      <td>3.16</td>\n",
       "      <td>0.58</td>\n",
       "      <td>9.8</td>\n",
       "      <td>6</td>\n",
       "      <td>3</td>\n",
       "    </tr>\n",
       "    <tr>\n",
       "      <th>4</th>\n",
       "      <td>7.4</td>\n",
       "      <td>0.70</td>\n",
       "      <td>0.00</td>\n",
       "      <td>1.9</td>\n",
       "      <td>0.076</td>\n",
       "      <td>11.0</td>\n",
       "      <td>34.0</td>\n",
       "      <td>0.9978</td>\n",
       "      <td>3.51</td>\n",
       "      <td>0.56</td>\n",
       "      <td>9.4</td>\n",
       "      <td>5</td>\n",
       "      <td>4</td>\n",
       "    </tr>\n",
       "    <tr>\n",
       "      <th>5</th>\n",
       "      <td>7.4</td>\n",
       "      <td>0.66</td>\n",
       "      <td>0.00</td>\n",
       "      <td>1.8</td>\n",
       "      <td>0.075</td>\n",
       "      <td>13.0</td>\n",
       "      <td>40.0</td>\n",
       "      <td>0.9978</td>\n",
       "      <td>3.51</td>\n",
       "      <td>0.56</td>\n",
       "      <td>9.4</td>\n",
       "      <td>5</td>\n",
       "      <td>5</td>\n",
       "    </tr>\n",
       "    <tr>\n",
       "      <th>6</th>\n",
       "      <td>7.9</td>\n",
       "      <td>0.60</td>\n",
       "      <td>0.06</td>\n",
       "      <td>1.6</td>\n",
       "      <td>0.069</td>\n",
       "      <td>15.0</td>\n",
       "      <td>59.0</td>\n",
       "      <td>0.9964</td>\n",
       "      <td>3.30</td>\n",
       "      <td>0.46</td>\n",
       "      <td>9.4</td>\n",
       "      <td>5</td>\n",
       "      <td>6</td>\n",
       "    </tr>\n",
       "    <tr>\n",
       "      <th>7</th>\n",
       "      <td>7.3</td>\n",
       "      <td>0.65</td>\n",
       "      <td>0.00</td>\n",
       "      <td>1.2</td>\n",
       "      <td>0.065</td>\n",
       "      <td>15.0</td>\n",
       "      <td>21.0</td>\n",
       "      <td>0.9946</td>\n",
       "      <td>3.39</td>\n",
       "      <td>0.47</td>\n",
       "      <td>10.0</td>\n",
       "      <td>7</td>\n",
       "      <td>7</td>\n",
       "    </tr>\n",
       "    <tr>\n",
       "      <th>8</th>\n",
       "      <td>7.8</td>\n",
       "      <td>0.58</td>\n",
       "      <td>0.02</td>\n",
       "      <td>2.0</td>\n",
       "      <td>0.073</td>\n",
       "      <td>9.0</td>\n",
       "      <td>18.0</td>\n",
       "      <td>0.9968</td>\n",
       "      <td>3.36</td>\n",
       "      <td>0.57</td>\n",
       "      <td>9.5</td>\n",
       "      <td>7</td>\n",
       "      <td>8</td>\n",
       "    </tr>\n",
       "    <tr>\n",
       "      <th>9</th>\n",
       "      <td>6.7</td>\n",
       "      <td>0.58</td>\n",
       "      <td>0.08</td>\n",
       "      <td>1.8</td>\n",
       "      <td>0.097</td>\n",
       "      <td>15.0</td>\n",
       "      <td>65.0</td>\n",
       "      <td>0.9959</td>\n",
       "      <td>3.28</td>\n",
       "      <td>0.54</td>\n",
       "      <td>9.2</td>\n",
       "      <td>5</td>\n",
       "      <td>10</td>\n",
       "    </tr>\n",
       "  </tbody>\n",
       "</table>\n",
       "</div>"
      ],
      "text/plain": [
       "   fixed acidity  volatile acidity  citric acid  residual sugar  chlorides  \\\n",
       "0            7.4              0.70         0.00             1.9      0.076   \n",
       "1            7.8              0.88         0.00             2.6      0.098   \n",
       "2            7.8              0.76         0.04             2.3      0.092   \n",
       "3           11.2              0.28         0.56             1.9      0.075   \n",
       "4            7.4              0.70         0.00             1.9      0.076   \n",
       "5            7.4              0.66         0.00             1.8      0.075   \n",
       "6            7.9              0.60         0.06             1.6      0.069   \n",
       "7            7.3              0.65         0.00             1.2      0.065   \n",
       "8            7.8              0.58         0.02             2.0      0.073   \n",
       "9            6.7              0.58         0.08             1.8      0.097   \n",
       "\n",
       "   free sulfur dioxide  total sulfur dioxide  density    pH  sulphates  \\\n",
       "0                 11.0                  34.0   0.9978  3.51       0.56   \n",
       "1                 25.0                  67.0   0.9968  3.20       0.68   \n",
       "2                 15.0                  54.0   0.9970  3.26       0.65   \n",
       "3                 17.0                  60.0   0.9980  3.16       0.58   \n",
       "4                 11.0                  34.0   0.9978  3.51       0.56   \n",
       "5                 13.0                  40.0   0.9978  3.51       0.56   \n",
       "6                 15.0                  59.0   0.9964  3.30       0.46   \n",
       "7                 15.0                  21.0   0.9946  3.39       0.47   \n",
       "8                  9.0                  18.0   0.9968  3.36       0.57   \n",
       "9                 15.0                  65.0   0.9959  3.28       0.54   \n",
       "\n",
       "   alcohol  quality  Id  \n",
       "0      9.4        5   0  \n",
       "1      9.8        5   1  \n",
       "2      9.8        5   2  \n",
       "3      9.8        6   3  \n",
       "4      9.4        5   4  \n",
       "5      9.4        5   5  \n",
       "6      9.4        5   6  \n",
       "7     10.0        7   7  \n",
       "8      9.5        7   8  \n",
       "9      9.2        5  10  "
      ]
     },
     "execution_count": 3,
     "metadata": {},
     "output_type": "execute_result"
    }
   ],
   "source": [
    "# For Kaggle\n",
    "# dataset = pd.read_csv('../input/wine-quality-dataset/WineQT.csv')\n",
    "\n",
    "dataset = pd.read_csv('WineQT.csv')\n",
    "dataset.head(10)"
   ]
  },
  {
   "cell_type": "markdown",
   "id": "dd941a87",
   "metadata": {
    "papermill": {
     "duration": 0.030158,
     "end_time": "2022-03-03T09:33:54.312849",
     "exception": false,
     "start_time": "2022-03-03T09:33:54.282691",
     "status": "completed"
    },
    "tags": []
   },
   "source": [
    "The indepedent variables (features) are the columns **fixed acidity**, **volatile acidity**,... right upto column **alcohol**  \n",
    "\n",
    "Column **Id** needs to be dropped as its value is the index in this dataset.  \n",
    "\n",
    "The dependent variable is column **quality**, which our model will be trained to predict."
   ]
  },
  {
   "cell_type": "code",
   "execution_count": 4,
   "id": "073af863",
   "metadata": {
    "execution": {
     "iopub.execute_input": "2022-03-03T09:33:54.382933Z",
     "iopub.status.busy": "2022-03-03T09:33:54.374593Z",
     "iopub.status.idle": "2022-03-03T09:33:54.385575Z",
     "shell.execute_reply": "2022-03-03T09:33:54.385041Z",
     "shell.execute_reply.started": "2022-03-03T09:14:06.644876Z"
    },
    "papermill": {
     "duration": 0.043296,
     "end_time": "2022-03-03T09:33:54.385728",
     "exception": false,
     "start_time": "2022-03-03T09:33:54.342432",
     "status": "completed"
    },
    "tags": []
   },
   "outputs": [],
   "source": [
    "dataset.drop(['Id'], axis = 1, inplace = True)"
   ]
  },
  {
   "cell_type": "markdown",
   "id": "1b7b4117",
   "metadata": {
    "papermill": {
     "duration": 0.029465,
     "end_time": "2022-03-03T09:33:54.446838",
     "exception": false,
     "start_time": "2022-03-03T09:33:54.417373",
     "status": "completed"
    },
    "tags": []
   },
   "source": [
    "# Check if dataset has null values"
   ]
  },
  {
   "cell_type": "code",
   "execution_count": 5,
   "id": "003da156",
   "metadata": {
    "execution": {
     "iopub.execute_input": "2022-03-03T09:33:54.515276Z",
     "iopub.status.busy": "2022-03-03T09:33:54.514622Z",
     "iopub.status.idle": "2022-03-03T09:33:54.518275Z",
     "shell.execute_reply": "2022-03-03T09:33:54.517789Z",
     "shell.execute_reply.started": "2022-03-03T09:14:06.653106Z"
    },
    "papermill": {
     "duration": 0.041026,
     "end_time": "2022-03-03T09:33:54.518415",
     "exception": false,
     "start_time": "2022-03-03T09:33:54.477389",
     "status": "completed"
    },
    "tags": []
   },
   "outputs": [
    {
     "data": {
      "text/plain": [
       "fixed acidity           0\n",
       "volatile acidity        0\n",
       "citric acid             0\n",
       "residual sugar          0\n",
       "chlorides               0\n",
       "free sulfur dioxide     0\n",
       "total sulfur dioxide    0\n",
       "density                 0\n",
       "pH                      0\n",
       "sulphates               0\n",
       "alcohol                 0\n",
       "quality                 0\n",
       "dtype: int64"
      ]
     },
     "execution_count": 5,
     "metadata": {},
     "output_type": "execute_result"
    }
   ],
   "source": [
    "dataset.isnull().sum()"
   ]
  },
  {
   "cell_type": "markdown",
   "id": "4a92a9a2",
   "metadata": {
    "papermill": {
     "duration": 0.029744,
     "end_time": "2022-03-03T09:33:54.578182",
     "exception": false,
     "start_time": "2022-03-03T09:33:54.548438",
     "status": "completed"
    },
    "tags": []
   },
   "source": [
    "# Feature Correlation Check"
   ]
  },
  {
   "cell_type": "code",
   "execution_count": 6,
   "id": "1cdfd276",
   "metadata": {
    "execution": {
     "iopub.execute_input": "2022-03-03T09:33:54.648773Z",
     "iopub.status.busy": "2022-03-03T09:33:54.647774Z",
     "iopub.status.idle": "2022-03-03T09:33:55.592760Z",
     "shell.execute_reply": "2022-03-03T09:33:55.591443Z",
     "shell.execute_reply.started": "2022-03-03T09:14:06.674094Z"
    },
    "papermill": {
     "duration": 0.984568,
     "end_time": "2022-03-03T09:33:55.592910",
     "exception": false,
     "start_time": "2022-03-03T09:33:54.608342",
     "status": "completed"
    },
    "tags": []
   },
   "outputs": [
    {
     "data": {
      "image/png": "[encoded data removed]",
      "text/plain": [
       "<Figure size 1080x720 with 2 Axes>"
      ]
     },
     "metadata": {
      "needs_background": "light"
     },
     "output_type": "display_data"
    }
   ],
   "source": [
    "import seaborn as sns\n",
    "\n",
    "plt.figure(figsize=[15, 10])\n",
    "sns.heatmap(dataset.corr(), annot = True, cmap = 'Greens')\n",
    "\n",
    "plt.show()"
   ]
  },
  {
   "cell_type": "code",
   "execution_count": 7,
   "id": "39d4dd79",
   "metadata": {
    "execution": {
     "iopub.execute_input": "2022-03-03T09:33:55.663152Z",
     "iopub.status.busy": "2022-03-03T09:33:55.662482Z",
     "iopub.status.idle": "2022-03-03T09:33:55.672382Z",
     "shell.execute_reply": "2022-03-03T09:33:55.672937Z",
     "shell.execute_reply.started": "2022-03-03T09:14:07.634021Z"
    },
    "papermill": {
     "duration": 0.046946,
     "end_time": "2022-03-03T09:33:55.673111",
     "exception": false,
     "start_time": "2022-03-03T09:33:55.626165",
     "status": "completed"
    },
    "tags": []
   },
   "outputs": [
    {
     "name": "stdout",
     "output_type": "stream",
     "text": [
      "quality                 100.000000\n",
      "alcohol                  48.486621\n",
      "sulphates                25.771026\n",
      "citric acid              24.082084\n",
      "fixed acidity            12.197010\n",
      "residual sugar            2.200193\n",
      "pH                       -5.245303\n",
      "free sulfur dioxide      -6.325964\n",
      "chlorides               -12.408453\n",
      "density                 -17.520792\n",
      "total sulfur dioxide    -18.333915\n",
      "volatile acidity        -40.739351\n",
      "Name: quality, dtype: float64\n"
     ]
    }
   ],
   "source": [
    "print((dataset.corr()['quality']*100).sort_values(ascending=False))"
   ]
  },
  {
   "cell_type": "markdown",
   "id": "c0c21684",
   "metadata": {
    "papermill": {
     "duration": 0.0333,
     "end_time": "2022-03-03T09:33:55.740107",
     "exception": false,
     "start_time": "2022-03-03T09:33:55.706807",
     "status": "completed"
    },
    "tags": []
   },
   "source": [
    "Features **residual sugar**, **pH** and **free sulfur dioxide** have a lower correlation with quality than other features  \n",
    "\n",
    "Currently won't drop them, as I will train the model with & without these features to see the difference in perfomance.  "
   ]
  },
  {
   "cell_type": "markdown",
   "id": "3215d037",
   "metadata": {
    "papermill": {
     "duration": 0.035978,
     "end_time": "2022-03-03T09:33:55.809597",
     "exception": false,
     "start_time": "2022-03-03T09:33:55.773619",
     "status": "completed"
    },
    "tags": []
   },
   "source": [
    "# Check value distribution of output classes"
   ]
  },
  {
   "cell_type": "code",
   "execution_count": 8,
   "id": "bd7470d1",
   "metadata": {
    "execution": {
     "iopub.execute_input": "2022-03-03T09:33:55.884331Z",
     "iopub.status.busy": "2022-03-03T09:33:55.883680Z",
     "iopub.status.idle": "2022-03-03T09:33:55.889081Z",
     "shell.execute_reply": "2022-03-03T09:33:55.889575Z",
     "shell.execute_reply.started": "2022-03-03T09:14:07.647265Z"
    },
    "papermill": {
     "duration": 0.046476,
     "end_time": "2022-03-03T09:33:55.889756",
     "exception": false,
     "start_time": "2022-03-03T09:33:55.843280",
     "status": "completed"
    },
    "tags": []
   },
   "outputs": [
    {
     "data": {
      "text/plain": [
       "5    483\n",
       "6    462\n",
       "7    143\n",
       "4     33\n",
       "8     16\n",
       "3      6\n",
       "Name: quality, dtype: int64"
      ]
     },
     "execution_count": 8,
     "metadata": {},
     "output_type": "execute_result"
    }
   ],
   "source": [
    "dataset['quality'].value_counts()"
   ]
  },
  {
   "cell_type": "markdown",
   "id": "cfe8743c",
   "metadata": {
    "papermill": {
     "duration": 0.033896,
     "end_time": "2022-03-03T09:33:55.957761",
     "exception": false,
     "start_time": "2022-03-03T09:33:55.923865",
     "status": "completed"
    },
    "tags": []
   },
   "source": [
    "This seems to be a case of an imbalanced dataset, we can use SMOTE oversampling technique to increase the number of minority classes present in the dataset   \n",
    "**quality** values : 3, 4, 7, 8, are the minority classes in this dataset"
   ]
  },
  {
   "cell_type": "markdown",
   "id": "bef3cf3a",
   "metadata": {
    "papermill": {
     "duration": 0.03389,
     "end_time": "2022-03-03T09:33:56.026184",
     "exception": false,
     "start_time": "2022-03-03T09:33:55.992294",
     "status": "completed"
    },
    "tags": []
   },
   "source": [
    "# Splitting Dependent and Independent Variables"
   ]
  },
  {
   "cell_type": "code",
   "execution_count": 9,
   "id": "27bb8c32",
   "metadata": {
    "execution": {
     "iopub.execute_input": "2022-03-03T09:33:56.097603Z",
     "iopub.status.busy": "2022-03-03T09:33:56.096933Z",
     "iopub.status.idle": "2022-03-03T09:33:56.101224Z",
     "shell.execute_reply": "2022-03-03T09:33:56.101726Z",
     "shell.execute_reply.started": "2022-03-03T09:14:07.663001Z"
    },
    "papermill": {
     "duration": 0.041597,
     "end_time": "2022-03-03T09:33:56.101890",
     "exception": false,
     "start_time": "2022-03-03T09:33:56.060293",
     "status": "completed"
    },
    "tags": []
   },
   "outputs": [],
   "source": [
    "X = dataset.iloc[:, :-1].values\n",
    "y = dataset.iloc[:, -1].values\n",
    "\n",
    "# X = dataset.drop(['residual sugar', 'pH', 'free sulfur dioxide',], axis = 1).iloc[:, :-1].values\n",
    "# y = dataset.drop(['residual sugar', 'pH', 'free sulfur dioxide',], axis = 1).iloc[:, -1].values"
   ]
  },
  {
   "cell_type": "markdown",
   "id": "ffdb98c5",
   "metadata": {
    "papermill": {
     "duration": 0.033802,
     "end_time": "2022-03-03T09:33:56.169800",
     "exception": false,
     "start_time": "2022-03-03T09:33:56.135998",
     "status": "completed"
    },
    "tags": []
   },
   "source": [
    "# SMOTE Oversampling  \n",
    "> Trying out two different sampling strategies\n",
    "> 1. Sampling all minority classes to the total number of entries present in the majority class  \n",
    "> (Quality : 5, has 483 entries. Hence all other classes will be oversampled to get total entries of 483 in each class)  \n",
    "> \n",
    "> 2. Sampling minority classes to a specific number. In this way, I can control the total number of oversampled entries in the minority classes"
   ]
  },
  {
   "cell_type": "code",
   "execution_count": 10,
   "id": "9e8e1d3e",
   "metadata": {
    "execution": {
     "iopub.execute_input": "2022-03-03T09:33:56.240956Z",
     "iopub.status.busy": "2022-03-03T09:33:56.240302Z",
     "iopub.status.idle": "2022-03-03T09:33:56.262308Z",
     "shell.execute_reply": "2022-03-03T09:33:56.261731Z",
     "shell.execute_reply.started": "2022-03-03T09:14:07.672948Z"
    },
    "papermill": {
     "duration": 0.058826,
     "end_time": "2022-03-03T09:33:56.262461",
     "exception": false,
     "start_time": "2022-03-03T09:33:56.203635",
     "status": "completed"
    },
    "tags": []
   },
   "outputs": [],
   "source": [
    "# Strategy 1\n",
    "oversample_strat1 = SMOTE()\n",
    "X_strat1, y_strat1 = oversample_strat1.fit_resample(X, y)\n",
    "\n",
    "# Strategy 2\n",
    "sampling_strat = {3: 150, 4: 350, 7: 400, 8: 320}\n",
    "oversample_strat2 = SMOTE(sampling_strategy = sampling_strat)\n",
    "X_strat2, y_strat2 = oversample_strat2.fit_resample(X, y)"
   ]
  },
  {
   "cell_type": "markdown",
   "id": "e6dd8c8e",
   "metadata": {
    "papermill": {
     "duration": 0.033605,
     "end_time": "2022-03-03T09:33:56.330268",
     "exception": false,
     "start_time": "2022-03-03T09:33:56.296663",
     "status": "completed"
    },
    "tags": []
   },
   "source": [
    "# Create Classification Model using RandomForestClassifier"
   ]
  },
  {
   "cell_type": "code",
   "execution_count": 11,
   "id": "eea6922c",
   "metadata": {
    "execution": {
     "iopub.execute_input": "2022-03-03T09:33:56.401227Z",
     "iopub.status.busy": "2022-03-03T09:33:56.400534Z",
     "iopub.status.idle": "2022-03-03T09:33:56.406239Z",
     "shell.execute_reply": "2022-03-03T09:33:56.406755Z",
     "shell.execute_reply.started": "2022-03-03T09:14:07.698877Z"
    },
    "papermill": {
     "duration": 0.042819,
     "end_time": "2022-03-03T09:33:56.406927",
     "exception": false,
     "start_time": "2022-03-03T09:33:56.364108",
     "status": "completed"
    },
    "tags": []
   },
   "outputs": [],
   "source": [
    "def createModel(X_strat, y_strat):\n",
    "    X_train, X_test, y_train, y_test = train_test_split(X_strat, y_strat, test_size = 0.2, random_state = 0)\n",
    "\n",
    "    scale = StandardScaler()\n",
    "\n",
    "    X_train = scale.fit_transform(X_train)\n",
    "    X_test = scale.transform(X_test)\n",
    "\n",
    "    classifier = RandomForestClassifier(n_estimators = 100, criterion = 'entropy', random_state = 69, max_features = 'auto')\n",
    "\n",
    "    classifier.fit(X_train, y_train)\n",
    "    \n",
    "    return(classifier, X_train, X_test, y_train, y_test)"
   ]
  },
  {
   "cell_type": "markdown",
   "id": "f0c0ffe0",
   "metadata": {
    "papermill": {
     "duration": 0.034057,
     "end_time": "2022-03-03T09:33:56.475026",
     "exception": false,
     "start_time": "2022-03-03T09:33:56.440969",
     "status": "completed"
    },
    "tags": []
   },
   "source": [
    "# Create Confusion Matrix and Check stats using CrossValScore and GridSearch"
   ]
  },
  {
   "cell_type": "code",
   "execution_count": 12,
   "id": "b5cb022e",
   "metadata": {
    "execution": {
     "iopub.execute_input": "2022-03-03T09:33:56.552029Z",
     "iopub.status.busy": "2022-03-03T09:33:56.551309Z",
     "iopub.status.idle": "2022-03-03T09:33:56.552901Z",
     "shell.execute_reply": "2022-03-03T09:33:56.553463Z",
     "shell.execute_reply.started": "2022-03-03T09:14:07.707228Z"
    },
    "papermill": {
     "duration": 0.044743,
     "end_time": "2022-03-03T09:33:56.553649",
     "exception": false,
     "start_time": "2022-03-03T09:33:56.508906",
     "status": "completed"
    },
    "tags": []
   },
   "outputs": [],
   "source": [
    "def dispXScore(classifier, X_train, y_train, y_test):\n",
    "    y_pred = classifier.predict(X_test)\n",
    "    print(confusion_matrix(y_test, y_pred))\n",
    "    print('Train Set Accuracy : ', accuracy_score(y_train, classifier.predict(X_train))*100)\n",
    "    print('Test Set Accuracy  : ', accuracy_score(y_test, y_pred)*100)\n",
    "    print('Precision          : ', precision_score(y_test, y_pred, average = 'micro')*100)\n",
    "    print('F1 Score           : ', f1_score(y_test, y_pred, average = 'micro')*100)\n",
    "    print('Recall Score       : ', recall_score(y_test, y_pred, average = 'micro')*100)\n",
    "\n",
    "    performance = cross_val_score(estimator = classifier, X = X_train, y = y_train, cv = 5)\n",
    "    print(' ')\n",
    "    print('Cross Validation Stats')\n",
    "    print('Best Accuracy      : ', performance.mean()*100)\n",
    "    print('Best Std Deviation : ', performance.std()*100)"
   ]
  },
  {
   "cell_type": "code",
   "execution_count": 13,
   "id": "1ca64074",
   "metadata": {
    "execution": {
     "iopub.execute_input": "2022-03-03T09:33:56.629485Z",
     "iopub.status.busy": "2022-03-03T09:33:56.628883Z",
     "iopub.status.idle": "2022-03-03T09:33:56.630412Z",
     "shell.execute_reply": "2022-03-03T09:33:56.631026Z",
     "shell.execute_reply.started": "2022-03-03T09:14:07.723388Z"
    },
    "papermill": {
     "duration": 0.043528,
     "end_time": "2022-03-03T09:33:56.631194",
     "exception": false,
     "start_time": "2022-03-03T09:33:56.587666",
     "status": "completed"
    },
    "tags": []
   },
   "outputs": [],
   "source": [
    "def dispGridSearch(classifier, X_train, y_train):\n",
    "    parameters = [{'n_estimators' : [i for i in range(50, 201, 20)], 'criterion' : ['gini', 'entropy'],\n",
    "                   'max_features' : ['auto', 'sqrt', 'log2']}]\n",
    "\n",
    "    grid_search = GridSearchCV(estimator = classifier, param_grid = parameters, scoring = 'accuracy', cv = 5, n_jobs = -1)\n",
    "    grid_search.fit(X_train, y_train)\n",
    "    \n",
    "    print(' ')\n",
    "    print('Grid Search Stats')\n",
    "    print('Best Accuracy      : ', grid_search.best_score_*100)\n",
    "    print('Best Params        : ', grid_search.best_params_)"
   ]
  },
  {
   "cell_type": "markdown",
   "id": "623db67b",
   "metadata": {
    "papermill": {
     "duration": 0.033773,
     "end_time": "2022-03-03T09:33:56.699114",
     "exception": false,
     "start_time": "2022-03-03T09:33:56.665341",
     "status": "completed"
    },
    "tags": []
   },
   "source": [
    "# All Columns and SMOTE Strategy 1"
   ]
  },
  {
   "cell_type": "code",
   "execution_count": 14,
   "id": "a5adf99b",
   "metadata": {
    "execution": {
     "iopub.execute_input": "2022-03-03T09:33:56.772446Z",
     "iopub.status.busy": "2022-03-03T09:33:56.771827Z",
     "iopub.status.idle": "2022-03-03T09:35:17.662333Z",
     "shell.execute_reply": "2022-03-03T09:35:17.663140Z",
     "shell.execute_reply.started": "2022-03-03T09:14:07.737813Z"
    },
    "papermill": {
     "duration": 80.930154,
     "end_time": "2022-03-03T09:35:17.663390",
     "exception": false,
     "start_time": "2022-03-03T09:33:56.733236",
     "status": "completed"
    },
    "tags": []
   },
   "outputs": [
    {
     "name": "stdout",
     "output_type": "stream",
     "text": [
      "[[99  0  0  0  0  0]\n",
      " [ 0 79  0  0  0  0]\n",
      " [ 0  8 69 20  2  0]\n",
      " [ 0  5 24 52 20  2]\n",
      " [ 0  0  1  7 98  2]\n",
      " [ 0  0  0  1  1 90]]\n",
      "Train Set Accuracy :  100.0\n",
      "Test Set Accuracy  :  83.9655172413793\n",
      "Precision          :  83.9655172413793\n",
      "F1 Score           :  83.96551724137929\n",
      "Recall Score       :  83.9655172413793\n",
      " \n",
      "Cross Validation Stats\n",
      "Best Accuracy      :  84.3838906680569\n",
      "Best Std Deviation :  1.3993007922611795\n",
      " \n",
      "Grid Search Stats\n",
      "Best Accuracy      :  84.81492515081553\n",
      "Best Params        :  {'criterion': 'entropy', 'max_features': 'auto', 'n_estimators': 150}\n"
     ]
    }
   ],
   "source": [
    "classifier, X_train, X_test, y_train, y_test = createModel(X_strat1, y_strat1)\n",
    "dispXScore(classifier, X_train, y_train, y_test)\n",
    "dispGridSearch(classifier, X_train, y_train)"
   ]
  },
  {
   "cell_type": "markdown",
   "id": "6a657b57",
   "metadata": {
    "papermill": {
     "duration": 0.035147,
     "end_time": "2022-03-03T09:35:17.736279",
     "exception": false,
     "start_time": "2022-03-03T09:35:17.701132",
     "status": "completed"
    },
    "tags": []
   },
   "source": [
    "# All Columns and SMOTE Strategy 2"
   ]
  },
  {
   "cell_type": "code",
   "execution_count": 15,
   "id": "143752c8",
   "metadata": {
    "execution": {
     "iopub.execute_input": "2022-03-03T09:35:17.862844Z",
     "iopub.status.busy": "2022-03-03T09:35:17.848817Z",
     "iopub.status.idle": "2022-03-03T09:36:19.748443Z",
     "shell.execute_reply": "2022-03-03T09:36:19.749026Z",
     "shell.execute_reply.started": "2022-03-03T09:15:30.09582Z"
    },
    "papermill": {
     "duration": 61.976868,
     "end_time": "2022-03-03T09:36:19.749208",
     "exception": false,
     "start_time": "2022-03-03T09:35:17.772340",
     "status": "completed"
    },
    "tags": []
   },
   "outputs": [
    {
     "name": "stdout",
     "output_type": "stream",
     "text": [
      "[[24  0  0  0  0  0]\n",
      " [ 0 62  4  2  0  0]\n",
      " [ 1  3 80 17  2  0]\n",
      " [ 0  2 24 50 14  4]\n",
      " [ 0  0  0  5 74  3]\n",
      " [ 0  0  0  0  2 60]]\n",
      "Train Set Accuracy :  100.0\n",
      "Test Set Accuracy  :  80.83140877598153\n",
      "Precision          :  80.83140877598153\n",
      "F1 Score           :  80.83140877598153\n",
      "Recall Score       :  80.83140877598153\n",
      " \n",
      "Cross Validation Stats\n",
      "Best Accuracy      :  77.94522829871234\n",
      "Best Std Deviation :  2.26600745606824\n",
      " \n",
      "Grid Search Stats\n",
      "Best Accuracy      :  79.0992986956739\n",
      "Best Params        :  {'criterion': 'gini', 'max_features': 'auto', 'n_estimators': 110}\n"
     ]
    }
   ],
   "source": [
    "classifier, X_train, X_test, y_train, y_test = createModel(X_strat2, y_strat2)\n",
    "dispXScore(classifier, X_train, y_train, y_test)\n",
    "dispGridSearch(classifier, X_train, y_train)"
   ]
  },
  {
   "cell_type": "markdown",
   "id": "a0853cd6",
   "metadata": {
    "papermill": {
     "duration": 0.035804,
     "end_time": "2022-03-03T09:36:19.821705",
     "exception": false,
     "start_time": "2022-03-03T09:36:19.785901",
     "status": "completed"
    },
    "tags": []
   },
   "source": [
    "# Drop columns having less correlation with output variable"
   ]
  },
  {
   "cell_type": "code",
   "execution_count": 16,
   "id": "143f6331",
   "metadata": {
    "execution": {
     "iopub.execute_input": "2022-03-03T09:36:19.898668Z",
     "iopub.status.busy": "2022-03-03T09:36:19.897978Z",
     "iopub.status.idle": "2022-03-03T09:36:19.920389Z",
     "shell.execute_reply": "2022-03-03T09:36:19.920939Z",
     "shell.execute_reply.started": "2022-03-03T09:16:32.776898Z"
    },
    "papermill": {
     "duration": 0.062717,
     "end_time": "2022-03-03T09:36:19.921117",
     "exception": false,
     "start_time": "2022-03-03T09:36:19.858400",
     "status": "completed"
    },
    "tags": []
   },
   "outputs": [],
   "source": [
    "X = dataset.drop(['residual sugar', 'pH', 'free sulfur dioxide',], axis = 1).iloc[:, :-1].values\n",
    "y = dataset.drop(['residual sugar', 'pH', 'free sulfur dioxide',], axis = 1).iloc[:, -1].values\n",
    "\n",
    "# Strategy 1\n",
    "oversample_strat1 = SMOTE()\n",
    "X_strat1, y_strat1 = oversample_strat1.fit_resample(X, y)\n",
    "\n",
    "# Strategy 2\n",
    "sampling_strat = {3: 150, 4: 350, 7: 400, 8: 320}\n",
    "oversample_strat2 = SMOTE(sampling_strategy = sampling_strat)\n",
    "X_strat2, y_strat2 = oversample_strat2.fit_resample(X, y)"
   ]
  },
  {
   "cell_type": "markdown",
   "id": "c724e371",
   "metadata": {
    "papermill": {
     "duration": 0.036471,
     "end_time": "2022-03-03T09:36:19.994634",
     "exception": false,
     "start_time": "2022-03-03T09:36:19.958163",
     "status": "completed"
    },
    "tags": []
   },
   "source": [
    "# Drop Columns 'residual sugar, pH and free sulfur dioxide' and SMOTE Strategy 1"
   ]
  },
  {
   "cell_type": "code",
   "execution_count": 17,
   "id": "7b30b754",
   "metadata": {
    "execution": {
     "iopub.execute_input": "2022-03-03T09:36:20.070852Z",
     "iopub.status.busy": "2022-03-03T09:36:20.070063Z",
     "iopub.status.idle": "2022-03-03T09:37:29.926709Z",
     "shell.execute_reply": "2022-03-03T09:37:29.927294Z",
     "shell.execute_reply.started": "2022-03-03T09:16:32.806094Z"
    },
    "papermill": {
     "duration": 69.896357,
     "end_time": "2022-03-03T09:37:29.927487",
     "exception": false,
     "start_time": "2022-03-03T09:36:20.031130",
     "status": "completed"
    },
    "tags": []
   },
   "outputs": [
    {
     "name": "stdout",
     "output_type": "stream",
     "text": [
      "[[ 99   0   0   0   0   0]\n",
      " [  0  77   1   1   0   0]\n",
      " [  0   6  70  20   3   0]\n",
      " [  0   5  20  49  27   2]\n",
      " [  0   0   1   2 103   2]\n",
      " [  0   0   0   0   3  89]]\n",
      "Train Set Accuracy :  100.0\n",
      "Test Set Accuracy  :  83.9655172413793\n",
      "Precision          :  83.9655172413793\n",
      "F1 Score           :  83.96551724137929\n",
      "Recall Score       :  83.9655172413793\n",
      " \n",
      "Cross Validation Stats\n",
      "Best Accuracy      :  82.3130632308036\n",
      "Best Std Deviation :  1.7223552011890864\n",
      " \n",
      "Grid Search Stats\n",
      "Best Accuracy      :  82.5287666641841\n",
      "Best Params        :  {'criterion': 'gini', 'max_features': 'log2', 'n_estimators': 110}\n"
     ]
    }
   ],
   "source": [
    "classifier, X_train, X_test, y_train, y_test = createModel(X_strat1, y_strat1)\n",
    "dispXScore(classifier, X_train, y_train, y_test)\n",
    "dispGridSearch(classifier, X_train, y_train)"
   ]
  },
  {
   "cell_type": "markdown",
   "id": "532b5d6e",
   "metadata": {
    "papermill": {
     "duration": 0.038183,
     "end_time": "2022-03-03T09:37:30.003958",
     "exception": false,
     "start_time": "2022-03-03T09:37:29.965775",
     "status": "completed"
    },
    "tags": []
   },
   "source": [
    "# Drop Columns 'residual sugar, pH and free sulfur dioxide' and SMOTE Strategy 2"
   ]
  },
  {
   "cell_type": "code",
   "execution_count": 18,
   "id": "4d5f2dcb",
   "metadata": {
    "execution": {
     "iopub.execute_input": "2022-03-03T09:37:30.084960Z",
     "iopub.status.busy": "2022-03-03T09:37:30.084300Z",
     "iopub.status.idle": "2022-03-03T09:38:25.342045Z",
     "shell.execute_reply": "2022-03-03T09:38:25.342615Z",
     "shell.execute_reply.started": "2022-03-03T09:17:42.130038Z"
    },
    "papermill": {
     "duration": 55.299694,
     "end_time": "2022-03-03T09:38:25.342804",
     "exception": false,
     "start_time": "2022-03-03T09:37:30.043110",
     "status": "completed"
    },
    "tags": []
   },
   "outputs": [
    {
     "name": "stdout",
     "output_type": "stream",
     "text": [
      "[[24  0  0  0  0  0]\n",
      " [ 0 59  6  2  1  0]\n",
      " [ 2  4 82 12  3  0]\n",
      " [ 0  4 26 49 13  2]\n",
      " [ 0  0  0 12 70  0]\n",
      " [ 0  0  0  0  1 61]]\n",
      "Train Set Accuracy :  100.0\n",
      "Test Set Accuracy  :  79.67667436489607\n",
      "Precision          :  79.67667436489607\n",
      "F1 Score           :  79.67667436489607\n",
      "Recall Score       :  79.67667436489607\n",
      " \n",
      "Cross Validation Stats\n",
      "Best Accuracy      :  77.36669387483136\n",
      "Best Std Deviation :  1.1156349385742887\n",
      " \n",
      "Grid Search Stats\n",
      "Best Accuracy      :  78.06016891272843\n",
      "Best Params        :  {'criterion': 'gini', 'max_features': 'log2', 'n_estimators': 170}\n"
     ]
    }
   ],
   "source": [
    "classifier, X_train, X_test, y_train, y_test = createModel(X_strat2, y_strat2)\n",
    "dispXScore(classifier, X_train, y_train, y_test)\n",
    "dispGridSearch(classifier, X_train, y_train)"
   ]
  },
  {
   "cell_type": "markdown",
   "id": "68e997e8",
   "metadata": {
    "papermill": {
     "duration": 0.038378,
     "end_time": "2022-03-03T09:38:25.420295",
     "exception": false,
     "start_time": "2022-03-03T09:38:25.381917",
     "status": "completed"
    },
    "tags": []
   },
   "source": [
    "# Conclusion\n",
    "  **SMOTE Sampling Strategy 1** - Sampling all minority classes to the total number of entries present in the majority class  \n",
    "  \n",
    "  **SMOTE Sampling Strategy 2** - Sampling minority classes to a specific number, controlling the total number of oversampled entries in the minority classes  \n",
    "      \n",
    "    \n",
    "    \n",
    "  \n",
    "   Using all **11** features in that dataset to create our classification model\n",
    "  \n",
    "- Comparing SMOTE Strategy 1 & 2, we get a higher accuracy using Strat 1\n",
    "\n",
    "\n",
    "  There are **11** features in that dataset, after dropping '**residual sugar**, **pH** and **free sulfur dioxide**', leaving only **8** featuers to create our classification model\n",
    "- Comparing SMOTE Strategy 1 & 2, we get a higher accuracy using Strat 1\n",
    "  \n",
    "  <br/>\n",
    "As expected, removing these 3 features didn't result in a significant decrease in accuracy.\n",
    "  <br/>\n",
    "  \n",
    "    \n",
    "\n",
    "  The training set accuracy has an accuracy of 100%, there seems to be a case of overfitting. I would love some suggestions on how to regularize this dataset and any other techniques that could be incoporated that could make this model function better.  \n",
    "  Thank you in advance!\n",
    "      "
   ]
  }
 ],
 "metadata": {
  "kernelspec": {
   "display_name": "Python 3 (ipykernel)",
   "language": "python",
   "name": "python3"
  },
  "language_info": {
   "codemirror_mode": {
    "name": "ipython",
    "version": 3
   },
   "file_extension": ".py",
   "mimetype": "text/x-python",
   "name": "python",
   "nbconvert_exporter": "python",
   "pygments_lexer": "ipython3",
   "version": "3.9.13"
  },
  "papermill": {
   "default_parameters": {},
   "duration": 283.495388,
   "end_time": "2022-03-03T09:38:26.372641",
   "environment_variables": {},
   "exception": null,
   "input_path": "__notebook__.ipynb",
   "output_path": "__notebook__.ipynb",
   "parameters": {},
   "start_time": "2022-03-03T09:33:42.877253",
   "version": "2.3.3"
  }
 },
 "nbformat": 4,
 "nbformat_minor": 5
}
